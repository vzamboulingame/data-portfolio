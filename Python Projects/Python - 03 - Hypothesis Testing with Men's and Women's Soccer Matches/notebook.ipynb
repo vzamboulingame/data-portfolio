{
 "cells": [
  {
   "cell_type": "markdown",
   "id": "3ed0edb2-696b-49ab-9db0-681defcce695",
   "metadata": {},
   "source": [
    "![A soccer pitch for an international match.](soccer-pitch.jpg)\n",
    "\n",
    "You're working as a sports journalist at a major online sports media company, specializing in soccer analysis and reporting. You've been watching both men's and women's international soccer matches for a number of years, and your gut instinct tells you that more goals are scored in women's international football matches than men's. This would make an interesting investigative article that your subscribers are bound to love, but you'll need to perform a valid statistical hypothesis test to be sure!\n",
    "\n",
    "While scoping this project, you acknowledge that the sport has changed a lot over the years, and performances likely vary a lot depending on the tournament, so you decide to limit the data used in the analysis to only official `FIFA World Cup` matches (not including qualifiers) since `2002-01-01`.\n",
    "\n",
    "You create two datasets containing the results of every official men's and women's international football match since the 19th century, which you scraped from a reliable online source. This data is stored in two CSV files: `women_results.csv` and `men_results.csv`.\n",
    "\n",
    "The question you are trying to determine the answer to is:\n",
    "\n",
    "> Are more goals scored in women's international soccer matches than men's?\n",
    "\n",
    "You assume a **10% significance level**, and use the following null and alternative hypotheses:\n",
    "\n",
    "$H_0$ : The mean number of goals scored in women's international soccer matches is the same as men's.\n",
    "\n",
    "$H_A$ : The mean number of goals scored in women's international soccer matches is greater than men's."
   ]
  },
  {
   "cell_type": "code",
   "execution_count": 153,
   "id": "84a3c4c8-534b-4d1a-9919-17e05208b2ca",
   "metadata": {
    "executionCancelledAt": null,
    "executionTime": 13,
    "lastExecutedAt": 1739700557994,
    "lastExecutedByKernel": "53f2785c-db63-4b3c-9e4d-67f0e730103d",
    "lastScheduledRunId": null,
    "lastSuccessfullyExecutedCode": "# Import required libraries\nimport pandas as pd\nimport numpy as np \nimport seaborn as sns\nimport pingouin as pg"
   },
   "outputs": [],
   "source": [
    "# Import required libraries\n",
    "import pandas as pd\n",
    "import numpy as np\n",
    "import seaborn as sns\n",
    "import pingouin as pg"
   ]
  },
  {
   "cell_type": "code",
   "execution_count": 154,
   "id": "c4e14acb-7d51-4165-a6e5-a99918e60585",
   "metadata": {
    "executionCancelledAt": null,
    "executionTime": 70,
    "lastExecutedAt": 1739700558064,
    "lastExecutedByKernel": "53f2785c-db63-4b3c-9e4d-67f0e730103d",
    "lastScheduledRunId": null,
    "lastSuccessfullyExecutedCode": "# Load dataframes\nmen = pd.read_csv(\"men_results.csv\", parse_dates=[\"date\"])\nwomen = pd.read_csv(\"women_results.csv\", parse_dates=[\"date\"])"
   },
   "outputs": [],
   "source": [
    "# Load dataframes\n",
    "men = pd.read_csv(\"men_results.csv\", parse_dates=[\"date\"])\n",
    "women = pd.read_csv(\"women_results.csv\", parse_dates=[\"date\"])"
   ]
  },
  {
   "cell_type": "code",
   "execution_count": 155,
   "id": "e023b442-ce8e-4ac1-8ca3-f0f2294eadbc",
   "metadata": {
    "executionCancelledAt": null,
    "executionTime": 62,
    "lastExecutedAt": 1739700558128,
    "lastExecutedByKernel": "53f2785c-db63-4b3c-9e4d-67f0e730103d",
    "lastScheduledRunId": null,
    "lastSuccessfullyExecutedCode": "# Preview men dataframe\nmen.head()",
    "outputsMetadata": {
     "0": {
      "height": 249,
      "type": "dataFrame"
     }
    }
   },
   "outputs": [
    {
     "data": {
      "application/com.datacamp.data-table.v2+json": {
       "table": {
        "data": {
         "Unnamed: 0": [
          0,
          1,
          2,
          3,
          4
         ],
         "away_score": [
          0,
          2,
          1,
          2,
          0
         ],
         "away_team": [
          "England",
          "Scotland",
          "England",
          "Scotland",
          "England"
         ],
         "date": [
          "1872-11-30T00:00:00.000",
          "1873-03-08T00:00:00.000",
          "1874-03-07T00:00:00.000",
          "1875-03-06T00:00:00.000",
          "1876-03-04T00:00:00.000"
         ],
         "home_score": [
          0,
          4,
          2,
          2,
          3
         ],
         "home_team": [
          "Scotland",
          "England",
          "Scotland",
          "England",
          "Scotland"
         ],
         "index": [
          0,
          1,
          2,
          3,
          4
         ],
         "tournament": [
          "Friendly",
          "Friendly",
          "Friendly",
          "Friendly",
          "Friendly"
         ]
        },
        "schema": {
         "fields": [
          {
           "name": "index",
           "type": "integer"
          },
          {
           "name": "Unnamed: 0",
           "type": "integer"
          },
          {
           "name": "date",
           "type": "datetime"
          },
          {
           "name": "home_team",
           "type": "string"
          },
          {
           "name": "away_team",
           "type": "string"
          },
          {
           "name": "home_score",
           "type": "integer"
          },
          {
           "name": "away_score",
           "type": "integer"
          },
          {
           "name": "tournament",
           "type": "string"
          }
         ],
         "pandas_version": "1.4.0",
         "primaryKey": [
          "index"
         ]
        }
       },
       "total_rows": 5,
       "truncation_type": null
      },
      "text/html": [
       "<div>\n",
       "<style scoped>\n",
       "    .dataframe tbody tr th:only-of-type {\n",
       "        vertical-align: middle;\n",
       "    }\n",
       "\n",
       "    .dataframe tbody tr th {\n",
       "        vertical-align: top;\n",
       "    }\n",
       "\n",
       "    .dataframe thead th {\n",
       "        text-align: right;\n",
       "    }\n",
       "</style>\n",
       "<table border=\"1\" class=\"dataframe\">\n",
       "  <thead>\n",
       "    <tr style=\"text-align: right;\">\n",
       "      <th></th>\n",
       "      <th>Unnamed: 0</th>\n",
       "      <th>date</th>\n",
       "      <th>home_team</th>\n",
       "      <th>away_team</th>\n",
       "      <th>home_score</th>\n",
       "      <th>away_score</th>\n",
       "      <th>tournament</th>\n",
       "    </tr>\n",
       "  </thead>\n",
       "  <tbody>\n",
       "    <tr>\n",
       "      <th>0</th>\n",
       "      <td>0</td>\n",
       "      <td>1872-11-30</td>\n",
       "      <td>Scotland</td>\n",
       "      <td>England</td>\n",
       "      <td>0</td>\n",
       "      <td>0</td>\n",
       "      <td>Friendly</td>\n",
       "    </tr>\n",
       "    <tr>\n",
       "      <th>1</th>\n",
       "      <td>1</td>\n",
       "      <td>1873-03-08</td>\n",
       "      <td>England</td>\n",
       "      <td>Scotland</td>\n",
       "      <td>4</td>\n",
       "      <td>2</td>\n",
       "      <td>Friendly</td>\n",
       "    </tr>\n",
       "    <tr>\n",
       "      <th>2</th>\n",
       "      <td>2</td>\n",
       "      <td>1874-03-07</td>\n",
       "      <td>Scotland</td>\n",
       "      <td>England</td>\n",
       "      <td>2</td>\n",
       "      <td>1</td>\n",
       "      <td>Friendly</td>\n",
       "    </tr>\n",
       "    <tr>\n",
       "      <th>3</th>\n",
       "      <td>3</td>\n",
       "      <td>1875-03-06</td>\n",
       "      <td>England</td>\n",
       "      <td>Scotland</td>\n",
       "      <td>2</td>\n",
       "      <td>2</td>\n",
       "      <td>Friendly</td>\n",
       "    </tr>\n",
       "    <tr>\n",
       "      <th>4</th>\n",
       "      <td>4</td>\n",
       "      <td>1876-03-04</td>\n",
       "      <td>Scotland</td>\n",
       "      <td>England</td>\n",
       "      <td>3</td>\n",
       "      <td>0</td>\n",
       "      <td>Friendly</td>\n",
       "    </tr>\n",
       "  </tbody>\n",
       "</table>\n",
       "</div>"
      ],
      "text/plain": [
       "   Unnamed: 0       date home_team away_team  home_score  away_score tournament\n",
       "0           0 1872-11-30  Scotland   England           0           0   Friendly\n",
       "1           1 1873-03-08   England  Scotland           4           2   Friendly\n",
       "2           2 1874-03-07  Scotland   England           2           1   Friendly\n",
       "3           3 1875-03-06   England  Scotland           2           2   Friendly\n",
       "4           4 1876-03-04  Scotland   England           3           0   Friendly"
      ]
     },
     "execution_count": 155,
     "metadata": {
      "application/com.datacamp.data-table.v2+json": {
       "status": "success"
      }
     },
     "output_type": "execute_result"
    }
   ],
   "source": [
    "# Preview men dataframe\n",
    "men.head()"
   ]
  },
  {
   "cell_type": "code",
   "execution_count": 156,
   "id": "40c7c30a-b736-414d-876b-6235784f4711",
   "metadata": {
    "executionCancelledAt": null,
    "executionTime": 64,
    "lastExecutedAt": 1739700558192,
    "lastExecutedByKernel": "53f2785c-db63-4b3c-9e4d-67f0e730103d",
    "lastScheduledRunId": null,
    "lastSuccessfullyExecutedCode": "# Preview men dataframe\nwomen.head()",
    "outputsMetadata": {
     "0": {
      "height": 249,
      "type": "dataFrame"
     }
    }
   },
   "outputs": [
    {
     "data": {
      "application/com.datacamp.data-table.v2+json": {
       "table": {
        "data": {
         "Unnamed: 0": [
          0,
          1,
          2,
          3,
          4
         ],
         "away_score": [
          0,
          3,
          0,
          1,
          2
         ],
         "away_team": [
          "France",
          "England",
          "France",
          "Denmark",
          "Australia"
         ],
         "date": [
          "1969-11-01T00:00:00.000",
          "1969-11-01T00:00:00.000",
          "1969-11-02T00:00:00.000",
          "1969-11-02T00:00:00.000",
          "1975-08-25T00:00:00.000"
         ],
         "home_score": [
          1,
          4,
          2,
          3,
          3
         ],
         "home_team": [
          "Italy",
          "Denmark",
          "England",
          "Italy",
          "Thailand"
         ],
         "index": [
          0,
          1,
          2,
          3,
          4
         ],
         "tournament": [
          "Euro",
          "Euro",
          "Euro",
          "Euro",
          "AFC Championship"
         ]
        },
        "schema": {
         "fields": [
          {
           "name": "index",
           "type": "integer"
          },
          {
           "name": "Unnamed: 0",
           "type": "integer"
          },
          {
           "name": "date",
           "type": "datetime"
          },
          {
           "name": "home_team",
           "type": "string"
          },
          {
           "name": "away_team",
           "type": "string"
          },
          {
           "name": "home_score",
           "type": "integer"
          },
          {
           "name": "away_score",
           "type": "integer"
          },
          {
           "name": "tournament",
           "type": "string"
          }
         ],
         "pandas_version": "1.4.0",
         "primaryKey": [
          "index"
         ]
        }
       },
       "total_rows": 5,
       "truncation_type": null
      },
      "text/html": [
       "<div>\n",
       "<style scoped>\n",
       "    .dataframe tbody tr th:only-of-type {\n",
       "        vertical-align: middle;\n",
       "    }\n",
       "\n",
       "    .dataframe tbody tr th {\n",
       "        vertical-align: top;\n",
       "    }\n",
       "\n",
       "    .dataframe thead th {\n",
       "        text-align: right;\n",
       "    }\n",
       "</style>\n",
       "<table border=\"1\" class=\"dataframe\">\n",
       "  <thead>\n",
       "    <tr style=\"text-align: right;\">\n",
       "      <th></th>\n",
       "      <th>Unnamed: 0</th>\n",
       "      <th>date</th>\n",
       "      <th>home_team</th>\n",
       "      <th>away_team</th>\n",
       "      <th>home_score</th>\n",
       "      <th>away_score</th>\n",
       "      <th>tournament</th>\n",
       "    </tr>\n",
       "  </thead>\n",
       "  <tbody>\n",
       "    <tr>\n",
       "      <th>0</th>\n",
       "      <td>0</td>\n",
       "      <td>1969-11-01</td>\n",
       "      <td>Italy</td>\n",
       "      <td>France</td>\n",
       "      <td>1</td>\n",
       "      <td>0</td>\n",
       "      <td>Euro</td>\n",
       "    </tr>\n",
       "    <tr>\n",
       "      <th>1</th>\n",
       "      <td>1</td>\n",
       "      <td>1969-11-01</td>\n",
       "      <td>Denmark</td>\n",
       "      <td>England</td>\n",
       "      <td>4</td>\n",
       "      <td>3</td>\n",
       "      <td>Euro</td>\n",
       "    </tr>\n",
       "    <tr>\n",
       "      <th>2</th>\n",
       "      <td>2</td>\n",
       "      <td>1969-11-02</td>\n",
       "      <td>England</td>\n",
       "      <td>France</td>\n",
       "      <td>2</td>\n",
       "      <td>0</td>\n",
       "      <td>Euro</td>\n",
       "    </tr>\n",
       "    <tr>\n",
       "      <th>3</th>\n",
       "      <td>3</td>\n",
       "      <td>1969-11-02</td>\n",
       "      <td>Italy</td>\n",
       "      <td>Denmark</td>\n",
       "      <td>3</td>\n",
       "      <td>1</td>\n",
       "      <td>Euro</td>\n",
       "    </tr>\n",
       "    <tr>\n",
       "      <th>4</th>\n",
       "      <td>4</td>\n",
       "      <td>1975-08-25</td>\n",
       "      <td>Thailand</td>\n",
       "      <td>Australia</td>\n",
       "      <td>3</td>\n",
       "      <td>2</td>\n",
       "      <td>AFC Championship</td>\n",
       "    </tr>\n",
       "  </tbody>\n",
       "</table>\n",
       "</div>"
      ],
      "text/plain": [
       "   Unnamed: 0       date home_team  ... home_score  away_score        tournament\n",
       "0           0 1969-11-01     Italy  ...          1           0              Euro\n",
       "1           1 1969-11-01   Denmark  ...          4           3              Euro\n",
       "2           2 1969-11-02   England  ...          2           0              Euro\n",
       "3           3 1969-11-02     Italy  ...          3           1              Euro\n",
       "4           4 1975-08-25  Thailand  ...          3           2  AFC Championship\n",
       "\n",
       "[5 rows x 7 columns]"
      ]
     },
     "execution_count": 156,
     "metadata": {
      "application/com.datacamp.data-table.v2+json": {
       "status": "success"
      }
     },
     "output_type": "execute_result"
    }
   ],
   "source": [
    "# Preview men dataframe\n",
    "women.head()"
   ]
  },
  {
   "cell_type": "code",
   "execution_count": 157,
   "id": "2f789b95-dc55-4a08-b2bf-7fa685615262",
   "metadata": {
    "executionCancelledAt": null,
    "executionTime": 51,
    "lastExecutedAt": 1739700558244,
    "lastExecutedByKernel": "53f2785c-db63-4b3c-9e4d-67f0e730103d",
    "lastScheduledRunId": null,
    "lastSuccessfullyExecutedCode": "# Check both dataframe info\nmen.info()\nwomen.info()",
    "outputsMetadata": {
     "0": {
      "height": 605,
      "type": "stream"
     }
    }
   },
   "outputs": [
    {
     "name": "stdout",
     "output_type": "stream",
     "text": [
      "<class 'pandas.core.frame.DataFrame'>\n",
      "RangeIndex: 44353 entries, 0 to 44352\n",
      "Data columns (total 7 columns):\n",
      " #   Column      Non-Null Count  Dtype         \n",
      "---  ------      --------------  -----         \n",
      " 0   Unnamed: 0  44353 non-null  int64         \n",
      " 1   date        44353 non-null  datetime64[ns]\n",
      " 2   home_team   44353 non-null  object        \n",
      " 3   away_team   44353 non-null  object        \n",
      " 4   home_score  44353 non-null  int64         \n",
      " 5   away_score  44353 non-null  int64         \n",
      " 6   tournament  44353 non-null  object        \n",
      "dtypes: datetime64[ns](1), int64(3), object(3)\n",
      "memory usage: 2.4+ MB\n",
      "<class 'pandas.core.frame.DataFrame'>\n",
      "RangeIndex: 4884 entries, 0 to 4883\n",
      "Data columns (total 7 columns):\n",
      " #   Column      Non-Null Count  Dtype         \n",
      "---  ------      --------------  -----         \n",
      " 0   Unnamed: 0  4884 non-null   int64         \n",
      " 1   date        4884 non-null   datetime64[ns]\n",
      " 2   home_team   4884 non-null   object        \n",
      " 3   away_team   4884 non-null   object        \n",
      " 4   home_score  4884 non-null   int64         \n",
      " 5   away_score  4884 non-null   int64         \n",
      " 6   tournament  4884 non-null   object        \n",
      "dtypes: datetime64[ns](1), int64(3), object(3)\n",
      "memory usage: 267.2+ KB\n"
     ]
    }
   ],
   "source": [
    "# Check both dataframe info\n",
    "men.info()\n",
    "women.info()"
   ]
  },
  {
   "cell_type": "code",
   "execution_count": 158,
   "id": "c8d1bc1c-6bc8-48d1-8c13-e8cf2b1f0c47",
   "metadata": {
    "executionCancelledAt": null,
    "executionTime": 48,
    "lastExecutedAt": 1739700558292,
    "lastExecutedByKernel": "53f2785c-db63-4b3c-9e4d-67f0e730103d",
    "lastScheduledRunId": null,
    "lastSuccessfullyExecutedCode": "# Subset both dataframes to only include official FIFA World Cup matches that took place after 2002-01-01\nmen.query('tournament == \"FIFA World Cup\" and date > \"2002-01-01\"', inplace=True)\nwomen.query('tournament == \"FIFA World Cup\" and date > \"2002-01-01\"', inplace=True)"
   },
   "outputs": [],
   "source": [
    "# Subset both dataframes to only include official FIFA World Cup matches that took place after 2002-01-01\n",
    "men.query('tournament == \"FIFA World Cup\" and date > \"2002-01-01\"', inplace=True)\n",
    "women.query('tournament == \"FIFA World Cup\" and date > \"2002-01-01\"', inplace=True)"
   ]
  },
  {
   "cell_type": "code",
   "execution_count": 159,
   "id": "a7b315cd-c1cd-497f-9539-95ae7e7f880d",
   "metadata": {
    "executionCancelledAt": null,
    "executionTime": 60,
    "lastExecutedAt": 1739700558352,
    "lastExecutedByKernel": "53f2785c-db63-4b3c-9e4d-67f0e730103d",
    "lastScheduledRunId": null,
    "lastSuccessfullyExecutedCode": "# Check both dataframe info\nmen.info()\nwomen.info()",
    "outputsMetadata": {
     "0": {
      "height": 605,
      "type": "stream"
     }
    }
   },
   "outputs": [
    {
     "name": "stdout",
     "output_type": "stream",
     "text": [
      "<class 'pandas.core.frame.DataFrame'>\n",
      "Int64Index: 384 entries, 25164 to 44352\n",
      "Data columns (total 7 columns):\n",
      " #   Column      Non-Null Count  Dtype         \n",
      "---  ------      --------------  -----         \n",
      " 0   Unnamed: 0  384 non-null    int64         \n",
      " 1   date        384 non-null    datetime64[ns]\n",
      " 2   home_team   384 non-null    object        \n",
      " 3   away_team   384 non-null    object        \n",
      " 4   home_score  384 non-null    int64         \n",
      " 5   away_score  384 non-null    int64         \n",
      " 6   tournament  384 non-null    object        \n",
      "dtypes: datetime64[ns](1), int64(3), object(3)\n",
      "memory usage: 24.0+ KB\n",
      "<class 'pandas.core.frame.DataFrame'>\n",
      "Int64Index: 200 entries, 1600 to 4469\n",
      "Data columns (total 7 columns):\n",
      " #   Column      Non-Null Count  Dtype         \n",
      "---  ------      --------------  -----         \n",
      " 0   Unnamed: 0  200 non-null    int64         \n",
      " 1   date        200 non-null    datetime64[ns]\n",
      " 2   home_team   200 non-null    object        \n",
      " 3   away_team   200 non-null    object        \n",
      " 4   home_score  200 non-null    int64         \n",
      " 5   away_score  200 non-null    int64         \n",
      " 6   tournament  200 non-null    object        \n",
      "dtypes: datetime64[ns](1), int64(3), object(3)\n",
      "memory usage: 12.5+ KB\n"
     ]
    }
   ],
   "source": [
    "# Check both dataframe info\n",
    "men.info()\n",
    "women.info()"
   ]
  },
  {
   "cell_type": "code",
   "execution_count": 160,
   "id": "9195f359-0621-4de8-b9e4-7823171f5591",
   "metadata": {
    "executionCancelledAt": null,
    "executionTime": 52,
    "lastExecutedAt": 1739700558404,
    "lastExecutedByKernel": "53f2785c-db63-4b3c-9e4d-67f0e730103d",
    "lastScheduledRunId": null,
    "lastSuccessfullyExecutedCode": "# Add a total_goals column in each dataframe\nmen['total_goals'] = men['home_score'] + men['away_score']\nwomen['total_goals'] = women['home_score'] + women['away_score']"
   },
   "outputs": [],
   "source": [
    "# Add a total_goals column in each dataframe\n",
    "men['total_goals'] = men['home_score'] + men['away_score']\n",
    "women['total_goals'] = women['home_score'] + women['away_score']"
   ]
  },
  {
   "cell_type": "code",
   "execution_count": 161,
   "id": "1dbaa70b-4795-47b2-b21b-ef5736b72f57",
   "metadata": {
    "executionCancelledAt": null,
    "executionTime": 374,
    "lastExecutedAt": 1739700558778,
    "lastExecutedByKernel": "53f2785c-db63-4b3c-9e4d-67f0e730103d",
    "lastScheduledRunId": null,
    "lastSuccessfullyExecutedCode": "# Plot an histgram to see if the data is normally distributed\nplt.figure(figsize=(10, 6))\nsns.histplot(data=women, x='total_goals', label='Women', alpha=0.5)\nsns.histplot(data=men, x='total_goals', label='Men', alpha=0.5)\nplt.title('Distribution of Total Goals per Match')\nplt.legend()\nplt.show()",
    "outputsMetadata": {
     "0": {
      "height": 80,
      "type": "stream"
     }
    }
   },
   "outputs": [
    {
     "data": {
      "image/png": "[encoded data removed]",
      "text/plain": [
       "<Figure size 1000x600 with 1 Axes>"
      ]
     },
     "metadata": {
      "image/png": {
       "height": 546,
       "width": 841
      }
     },
     "output_type": "display_data"
    }
   ],
   "source": [
    "# Plot an histgram to see if the data is normally distributed\n",
    "plt.figure(figsize=(10, 6))\n",
    "sns.histplot(data=women, x='total_goals', label='Women', alpha=0.5)\n",
    "sns.histplot(data=men, x='total_goals', label='Men', alpha=0.5)\n",
    "plt.title('Distribution of Total Goals per Match')\n",
    "plt.legend()\n",
    "plt.show()"
   ]
  },
  {
   "cell_type": "code",
   "execution_count": 162,
   "id": "1775a56f-6081-4edf-9bc1-8d2e0bb4f09f",
   "metadata": {
    "executionCancelledAt": null,
    "executionTime": 50,
    "lastExecutedAt": 1739700558828,
    "lastExecutedByKernel": "53f2785c-db63-4b3c-9e4d-67f0e730103d",
    "lastScheduledRunId": null,
    "lastSuccessfullyExecutedCode": "# As the data is not normally distributed, perform a two-sided Wilcoxon-Mann-Whitney test\nwmw_test = pg.mwu(women['total_goals'], men['total_goals'], alternative='greater')\nprint(wmw_test)",
    "outputsMetadata": {
     "0": {
      "height": 59,
      "type": "stream"
     }
    }
   },
   "outputs": [
    {
     "name": "stdout",
     "output_type": "stream",
     "text": [
      "       U-val alternative     p-val       RBC      CLES\n",
      "MWU  43273.0     greater  0.005107 -0.126901  0.563451\n"
     ]
    }
   ],
   "source": [
    "# As the data is not normally distributed, perform a two-sided Wilcoxon-Mann-Whitney test\n",
    "wmw_test = pg.mwu(women['total_goals'], men['total_goals'], alternative='greater')\n",
    "print(wmw_test)"
   ]
  },
  {
   "cell_type": "code",
   "execution_count": 163,
   "id": "8d4ca283-ddbb-4688-8799-506b29a29968",
   "metadata": {
    "executionCancelledAt": null,
    "executionTime": 52,
    "lastExecutedAt": 1739700558880,
    "lastExecutedByKernel": "53f2785c-db63-4b3c-9e4d-67f0e730103d",
    "lastScheduledRunId": null,
    "lastSuccessfullyExecutedCode": "# Extract p-value from wmw_test\np_val = wmw_test['p-val'].iloc[0]\n\n# Define significance level\nalpha = 0.10\n\n# Determine the result\nresult = \"reject\" if p_val < alpha else \"fail to reject\"\n\n# Store results in a dictionary\nresult_dict = {\"p_val\": p_val, \"result\": result}\n\nprint(result_dict)",
    "outputsMetadata": {
     "0": {
      "height": 38,
      "type": "stream"
     }
    }
   },
   "outputs": [
    {
     "name": "stdout",
     "output_type": "stream",
     "text": [
      "{'p_val': 0.005106609825443641, 'result': 'reject'}\n"
     ]
    }
   ],
   "source": [
    "# Extract p-value from wmw_test\n",
    "p_val = wmw_test['p-val'].iloc[0]\n",
    "\n",
    "# Define significance level\n",
    "alpha = 0.10\n",
    "\n",
    "# Determine the result\n",
    "result = \"reject\" if p_val < alpha else \"fail to reject\"\n",
    "\n",
    "# Store results in a dictionary\n",
    "result_dict = {\"p_val\": p_val, \"result\": result}\n",
    "\n",
    "print(result_dict)"
   ]
  },
  {
   "cell_type": "markdown",
   "id": "25fb37e4",
   "metadata": {},
   "source": [
    "[MIT License](https://github.com/vzamboulingame/data-portfolio/blob/main/LICENSE)\n",
    "\n",
    "Copyright © Vinodh Zamboulingame"
   ]
  }
 ],
 "metadata": {
  "colab": {
   "name": "Welcome to DataCamp Workspaces.ipynb",
   "provenance": []
  },
  "kernelspec": {
   "display_name": "Python 3 (ipykernel)",
   "language": "python",
   "name": "python3"
  },
  "language_info": {
   "codemirror_mode": {
    "name": "ipython",
    "version": 3
   },
   "file_extension": ".py",
   "mimetype": "text/x-python",
   "name": "python",
   "nbconvert_exporter": "python",
   "pygments_lexer": "ipython3",
   "version": "3.8.10"
  }
 },
 "nbformat": 4,
 "nbformat_minor": 5
}
